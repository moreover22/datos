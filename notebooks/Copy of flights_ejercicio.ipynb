{
 "cells": [
  {
   "cell_type": "markdown",
   "metadata": {
    "id": "VDf7rnTBP9H1"
   },
   "source": [
    "# PySpark RDD API\n",
    "Ejercicios."
   ]
  },
  {
   "cell_type": "code",
   "execution_count": null,
   "metadata": {
    "colab": {
     "base_uri": "https://localhost:8080/",
     "height": 870
    },
    "executionInfo": {
     "elapsed": 51854,
     "status": "ok",
     "timestamp": 1603690197992,
     "user": {
      "displayName": "Agustin More",
      "photoUrl": "https://lh3.googleusercontent.com/a-/AOh14GjAKofz6jnjMFUV86twYI9sRNk6OvigYn_qCkEs=s64",
      "userId": "02543045116850321350"
     },
     "user_tz": 180
    },
    "id": "TJ87DyqSvmHa",
    "outputId": "07d05f29-a6fb-4f7f-f256-5fc59dc9b4e1"
   },
   "outputs": [
    {
     "name": "stdout",
     "output_type": "stream",
     "text": [
      "Collecting pyspark\n",
      "\u001b[?25l  Downloading https://files.pythonhosted.org/packages/f0/26/198fc8c0b98580f617cb03cb298c6056587b8f0447e20fa40c5b634ced77/pyspark-3.0.1.tar.gz (204.2MB)\n",
      "\u001b[K     |████████████████████████████████| 204.2MB 76kB/s \n",
      "\u001b[33mWARNING: Retrying (Retry(total=4, connect=None, read=None, redirect=None, status=None)) after connection broken by 'ProtocolError('Connection aborted.', ConnectionResetError(104, 'Connection reset by peer'))': /simple/py4j/\u001b[0m\n",
      "\u001b[?25hCollecting py4j==0.10.9\n",
      "\u001b[?25l  Downloading https://files.pythonhosted.org/packages/9e/b6/6a4fb90cd235dc8e265a6a2067f2a2c99f0d91787f06aca4bcf7c23f3f80/py4j-0.10.9-py2.py3-none-any.whl (198kB)\n",
      "\u001b[K     |████████████████████████████████| 204kB 48.4MB/s \n",
      "\u001b[?25hBuilding wheels for collected packages: pyspark\n",
      "  Building wheel for pyspark (setup.py) ... \u001b[?25l\u001b[?25hdone\n",
      "  Created wheel for pyspark: filename=pyspark-3.0.1-py2.py3-none-any.whl size=204612243 sha256=19a8c220a6a6b88400e221b3aacdc79815400522f61400c836abd211eed6d7ce\n",
      "  Stored in directory: /root/.cache/pip/wheels/5e/bd/07/031766ca628adec8435bb40f0bd83bb676ce65ff4007f8e73f\n",
      "Successfully built pyspark\n",
      "Installing collected packages: py4j, pyspark\n",
      "Successfully installed py4j-0.10.9 pyspark-3.0.1\n",
      "The following additional packages will be installed:\n",
      "  openjdk-8-jre-headless\n",
      "Suggested packages:\n",
      "  openjdk-8-demo openjdk-8-source libnss-mdns fonts-dejavu-extra\n",
      "  fonts-ipafont-gothic fonts-ipafont-mincho fonts-wqy-microhei\n",
      "  fonts-wqy-zenhei fonts-indic\n",
      "The following NEW packages will be installed:\n",
      "  openjdk-8-jdk-headless openjdk-8-jre-headless\n",
      "0 upgraded, 2 newly installed, 0 to remove and 21 not upgraded.\n",
      "Need to get 35.8 MB of archives.\n",
      "After this operation, 140 MB of additional disk space will be used.\n",
      "Selecting previously unselected package openjdk-8-jre-headless:amd64.\n",
      "(Reading database ... 144611 files and directories currently installed.)\n",
      "Preparing to unpack .../openjdk-8-jre-headless_8u265-b01-0ubuntu2~18.04_amd64.deb ...\n",
      "Unpacking openjdk-8-jre-headless:amd64 (8u265-b01-0ubuntu2~18.04) ...\n",
      "Selecting previously unselected package openjdk-8-jdk-headless:amd64.\n",
      "Preparing to unpack .../openjdk-8-jdk-headless_8u265-b01-0ubuntu2~18.04_amd64.deb ...\n",
      "Unpacking openjdk-8-jdk-headless:amd64 (8u265-b01-0ubuntu2~18.04) ...\n",
      "Setting up openjdk-8-jre-headless:amd64 (8u265-b01-0ubuntu2~18.04) ...\n",
      "update-alternatives: using /usr/lib/jvm/java-8-openjdk-amd64/jre/bin/orbd to provide /usr/bin/orbd (orbd) in auto mode\n",
      "update-alternatives: using /usr/lib/jvm/java-8-openjdk-amd64/jre/bin/servertool to provide /usr/bin/servertool (servertool) in auto mode\n",
      "update-alternatives: using /usr/lib/jvm/java-8-openjdk-amd64/jre/bin/tnameserv to provide /usr/bin/tnameserv (tnameserv) in auto mode\n",
      "Setting up openjdk-8-jdk-headless:amd64 (8u265-b01-0ubuntu2~18.04) ...\n",
      "update-alternatives: using /usr/lib/jvm/java-8-openjdk-amd64/bin/idlj to provide /usr/bin/idlj (idlj) in auto mode\n",
      "update-alternatives: using /usr/lib/jvm/java-8-openjdk-amd64/bin/wsimport to provide /usr/bin/wsimport (wsimport) in auto mode\n",
      "update-alternatives: using /usr/lib/jvm/java-8-openjdk-amd64/bin/jsadebugd to provide /usr/bin/jsadebugd (jsadebugd) in auto mode\n",
      "update-alternatives: using /usr/lib/jvm/java-8-openjdk-amd64/bin/native2ascii to provide /usr/bin/native2ascii (native2ascii) in auto mode\n",
      "update-alternatives: using /usr/lib/jvm/java-8-openjdk-amd64/bin/javah to provide /usr/bin/javah (javah) in auto mode\n",
      "update-alternatives: using /usr/lib/jvm/java-8-openjdk-amd64/bin/clhsdb to provide /usr/bin/clhsdb (clhsdb) in auto mode\n",
      "update-alternatives: using /usr/lib/jvm/java-8-openjdk-amd64/bin/jhat to provide /usr/bin/jhat (jhat) in auto mode\n",
      "update-alternatives: using /usr/lib/jvm/java-8-openjdk-amd64/bin/extcheck to provide /usr/bin/extcheck (extcheck) in auto mode\n",
      "update-alternatives: using /usr/lib/jvm/java-8-openjdk-amd64/bin/hsdb to provide /usr/bin/hsdb (hsdb) in auto mode\n",
      "update-alternatives: using /usr/lib/jvm/java-8-openjdk-amd64/bin/schemagen to provide /usr/bin/schemagen (schemagen) in auto mode\n",
      "update-alternatives: using /usr/lib/jvm/java-8-openjdk-amd64/bin/xjc to provide /usr/bin/xjc (xjc) in auto mode\n",
      "update-alternatives: using /usr/lib/jvm/java-8-openjdk-amd64/bin/wsgen to provide /usr/bin/wsgen (wsgen) in auto mode\n"
     ]
    }
   ],
   "source": [
    "!pip install pyspark\n",
    "!pip install -U -q PyDrive\n",
    "!apt install openjdk-8-jdk-headless -qq\n",
    "import os\n",
    "os.environ[\"JAVA_HOME\"] = \"/usr/lib/jvm/java-8-openjdk-amd64\""
   ]
  },
  {
   "cell_type": "code",
   "execution_count": null,
   "metadata": {
    "colab": {
     "base_uri": "https://localhost:8080/",
     "height": 282
    },
    "executionInfo": {
     "elapsed": 51631,
     "status": "ok",
     "timestamp": 1588626078152,
     "user": {
      "displayName": "Luis Argerich",
      "photoUrl": "",
      "userId": "00313787922295066251"
     },
     "user_tz": 180
    },
    "id": "YbfY0beMvoxI",
    "outputId": "8c9b867b-7727-4db3-b35a-4466df02331f"
   },
   "outputs": [
    {
     "name": "stdout",
     "output_type": "stream",
     "text": [
      "Requirement already satisfied: PyDrive in /usr/local/lib/python3.6/dist-packages (1.3.1)\n",
      "Requirement already satisfied: oauth2client>=4.0.0 in /usr/local/lib/python3.6/dist-packages (from PyDrive) (4.1.3)\n",
      "Requirement already satisfied: PyYAML>=3.0 in /usr/local/lib/python3.6/dist-packages (from PyDrive) (3.13)\n",
      "Requirement already satisfied: google-api-python-client>=1.2 in /usr/local/lib/python3.6/dist-packages (from PyDrive) (1.7.12)\n",
      "Requirement already satisfied: six>=1.6.1 in /usr/local/lib/python3.6/dist-packages (from oauth2client>=4.0.0->PyDrive) (1.12.0)\n",
      "Requirement already satisfied: pyasn1>=0.1.7 in /usr/local/lib/python3.6/dist-packages (from oauth2client>=4.0.0->PyDrive) (0.4.8)\n",
      "Requirement already satisfied: pyasn1-modules>=0.0.5 in /usr/local/lib/python3.6/dist-packages (from oauth2client>=4.0.0->PyDrive) (0.2.8)\n",
      "Requirement already satisfied: rsa>=3.1.4 in /usr/local/lib/python3.6/dist-packages (from oauth2client>=4.0.0->PyDrive) (4.0)\n",
      "Requirement already satisfied: httplib2>=0.9.1 in /usr/local/lib/python3.6/dist-packages (from oauth2client>=4.0.0->PyDrive) (0.17.3)\n",
      "Requirement already satisfied: uritemplate<4dev,>=3.0.0 in /usr/local/lib/python3.6/dist-packages (from google-api-python-client>=1.2->PyDrive) (3.0.1)\n",
      "Requirement already satisfied: google-auth-httplib2>=0.0.3 in /usr/local/lib/python3.6/dist-packages (from google-api-python-client>=1.2->PyDrive) (0.0.3)\n",
      "Requirement already satisfied: google-auth>=1.4.1 in /usr/local/lib/python3.6/dist-packages (from google-api-python-client>=1.2->PyDrive) (1.7.2)\n",
      "Requirement already satisfied: setuptools>=40.3.0 in /usr/local/lib/python3.6/dist-packages (from google-auth>=1.4.1->google-api-python-client>=1.2->PyDrive) (46.1.3)\n",
      "Requirement already satisfied: cachetools<3.2,>=2.0.0 in /usr/local/lib/python3.6/dist-packages (from google-auth>=1.4.1->google-api-python-client>=1.2->PyDrive) (3.1.1)\n"
     ]
    }
   ],
   "source": [
    "!pip install PyDrive"
   ]
  },
  {
   "cell_type": "code",
   "execution_count": null,
   "metadata": {
    "id": "eFx8Dwhhvs3D"
   },
   "outputs": [],
   "source": [
    "from pydrive.auth import GoogleAuth\n",
    "from pydrive.drive import GoogleDrive\n",
    "from google.colab import auth\n",
    "from oauth2client.client import GoogleCredentials"
   ]
  },
  {
   "cell_type": "code",
   "execution_count": null,
   "metadata": {
    "id": "JfaOgi93vvme"
   },
   "outputs": [],
   "source": [
    "auth.authenticate_user()\n",
    "gauth = GoogleAuth()\n",
    "gauth.credentials = GoogleCredentials.get_application_default()\n",
    "drive = GoogleDrive(gauth)"
   ]
  },
  {
   "cell_type": "code",
   "execution_count": null,
   "metadata": {
    "id": "9E06vB-SvyFv"
   },
   "outputs": [],
   "source": [
    "#idf = '1PN6TbhTwwl-hVII3P89IMbs1ashJ7BYz'\n",
    "idf = '1QQ7k1Y5RvL0ZcnQuTVg0rHU6O5AK81zQ'\n",
    "downloaded = drive.CreateFile({'id':idf})   # replace the id with id of file you want to access\n",
    "downloaded.GetContentFile('flights.parquet') \n",
    "# Fuente del dataset: https://www.kaggle.com/divyansh22/flight-delay-prediction"
   ]
  },
  {
   "cell_type": "code",
   "execution_count": null,
   "metadata": {
    "id": "QgsuFPKpv4mW"
   },
   "outputs": [],
   "source": [
    "from pyspark.sql import *\n",
    "from pyspark.sql.functions import *\n",
    "from pyspark import SparkContext\n",
    "import pandas as pd\n",
    "from pyspark.sql import SQLContext, SparkSession\n",
    "\n",
    "# create the Spark Session\n",
    "spark = SparkSession.builder.getOrCreate()\n",
    "\n",
    "# create the Spark Context\n",
    "sc = spark.sparkContext"
   ]
  },
  {
   "cell_type": "code",
   "execution_count": null,
   "metadata": {
    "id": "W7Zkre-dwEOS"
   },
   "outputs": [],
   "source": [
    "sqlContext = SQLContext(sc)\n",
    "rdd = sqlContext.read.parquet('flights.parquet').rdd.repartition(8).cache()"
   ]
  },
  {
   "cell_type": "code",
   "execution_count": null,
   "metadata": {
    "colab": {
     "base_uri": "https://localhost:8080/",
     "height": 35
    },
    "executionInfo": {
     "elapsed": 2717,
     "status": "ok",
     "timestamp": 1588629911789,
     "user": {
      "displayName": "Luis Argerich",
      "photoUrl": "",
      "userId": "00313787922295066251"
     },
     "user_tz": 180
    },
    "id": "EqMLZNVb24Vf",
    "outputId": "9c92c360-24ff-4340-8479-56c1875940c0"
   },
   "outputs": [
    {
     "data": {
      "text/plain": [
       "598963"
      ]
     },
     "execution_count": 15,
     "metadata": {
      "tags": []
     },
     "output_type": "execute_result"
    }
   ],
   "source": [
    "rdd.count()"
   ]
  },
  {
   "cell_type": "code",
   "execution_count": null,
   "metadata": {
    "colab": {
     "base_uri": "https://localhost:8080/",
     "height": 72
    },
    "executionInfo": {
     "elapsed": 4842,
     "status": "ok",
     "timestamp": 1588630014225,
     "user": {
      "displayName": "Luis Argerich",
      "photoUrl": "",
      "userId": "00313787922295066251"
     },
     "user_tz": 180
    },
    "id": "tb4qf9RTxSnN",
    "outputId": "ae21df3e-3563-4e12-dbff-b925c29df8da"
   },
   "outputs": [
    {
     "data": {
      "text/plain": [
       "[Row(DAY_OF_MONTH=30, DAY_OF_WEEK=4, OP_UNIQUE_CARRIER='DL', OP_CARRIER_AIRLINE_ID=19790, OP_CARRIER='DL', TAIL_NUM='N119DU', OP_CARRIER_FL_NUM=2747, ORIGIN_AIRPORT_ID=14869, ORIGIN_AIRPORT_SEQ_ID=1486903, ORIGIN='SLC', DEST_AIRPORT_ID=14908, DEST_AIRPORT_SEQ_ID=1490803, DEST='SNA', DEP_TIME=1700.0, DEP_DEL15=0.0, DEP_TIME_BLK='1700-1759', ARR_TIME=1732.0, ARR_DEL15=0.0, CANCELLED=0.0, DIVERTED=0.0, DISTANCE=588.0, TIMEDIFF=1),\n",
       " Row(DAY_OF_MONTH=4, DAY_OF_WEEK=6, OP_UNIQUE_CARRIER='YV', OP_CARRIER_AIRLINE_ID=20378, OP_CARRIER='YV', TAIL_NUM='N87302', OP_CARRIER_FL_NUM=6066, ORIGIN_AIRPORT_ID=12266, ORIGIN_AIRPORT_SEQ_ID=1226603, ORIGIN='IAH', DEST_AIRPORT_ID=11996, DEST_AIRPORT_SEQ_ID=1199603, DEST='GSP', DEP_TIME=1154.0, DEP_DEL15=0.0, DEP_TIME_BLK='1100-1159', ARR_TIME=1517.0, ARR_DEL15=0.0, CANCELLED=0.0, DIVERTED=0.0, DISTANCE=837.0, TIMEDIFF=-1)]"
      ]
     },
     "execution_count": 16,
     "metadata": {
      "tags": []
     },
     "output_type": "execute_result"
    }
   ],
   "source": [
    "rdd.takeSample(False, 2)"
   ]
  },
  {
   "cell_type": "code",
   "execution_count": null,
   "metadata": {
    "id": "ctPLDZ1--Q4k"
   },
   "outputs": [],
   "source": [
    "# DISTANCE, DEP_TIME, ARR_TIME, DAY_OF_WEEK, ORIGIN, DEST, TAIL_NUM, DAY_OF_MONTH, DAY_OF_WEEK\n",
    "# Ejemplo rdd.map(lambda x: (x.ORIGIN, x.DEST))"
   ]
  },
  {
   "cell_type": "markdown",
   "metadata": {
    "id": "nXvVZrvGwMNf"
   },
   "source": [
    "### **Ejercicio 1:** Calcular la cantidad de vuelos por línea aérea (usar OP_UNIQUE_CARRIER). Calcular las diez (10) líneas aéreas con mayor cantidad de vuelos. Devolver una lista de Python con los códigos de estas 10 líneas."
   ]
  },
  {
   "cell_type": "code",
   "execution_count": null,
   "metadata": {
    "colab": {
     "base_uri": "https://localhost:8080/",
     "height": 192
    },
    "executionInfo": {
     "elapsed": 4437,
     "status": "ok",
     "timestamp": 1588630391416,
     "user": {
      "displayName": "Luis Argerich",
      "photoUrl": "",
      "userId": "00313787922295066251"
     },
     "user_tz": 180
    },
    "id": "1TGN0x2MvBt3",
    "outputId": "33c008a4-0649-4253-990b-ae0a88839a0e"
   },
   "outputs": [
    {
     "data": {
      "text/plain": [
       "[('WN', 107708),\n",
       " ('DL', 79928),\n",
       " ('AA', 75472),\n",
       " ('OO', 69196),\n",
       " ('UA', 48019),\n",
       " ('YX', 28826),\n",
       " ('MQ', 25284),\n",
       " ('B6', 24621),\n",
       " ('OH', 23999),\n",
       " ('9E', 22955)]"
      ]
     },
     "execution_count": 22,
     "metadata": {
      "tags": []
     },
     "output_type": "execute_result"
    }
   ],
   "source": [
    "carriers = rdd.map(lambda x: (x.OP_UNIQUE_CARRIER, 1))\\\n",
    ".reduceByKey(lambda x,y: (x + y)).cache()\n",
    "top10carriers = carriers.takeOrdered(10, lambda x: -x[1])\n",
    "top10carriers"
   ]
  },
  {
   "cell_type": "code",
   "execution_count": null,
   "metadata": {
    "id": "j10wD885wI6V"
   },
   "outputs": [],
   "source": [
    "top10carriers = [x[0] for x in top10carriers]"
   ]
  },
  {
   "cell_type": "code",
   "execution_count": null,
   "metadata": {
    "colab": {
     "base_uri": "https://localhost:8080/",
     "height": 35
    },
    "executionInfo": {
     "elapsed": 734,
     "status": "ok",
     "timestamp": 1588630473051,
     "user": {
      "displayName": "Luis Argerich",
      "photoUrl": "",
      "userId": "00313787922295066251"
     },
     "user_tz": 180
    },
    "id": "mEe_Z2ZKwTSS",
    "outputId": "b7637de5-ce4b-4400-b8a1-3da3ab17c386"
   },
   "outputs": [
    {
     "data": {
      "text/plain": [
       "['WN', 'DL', 'AA', 'OO', 'UA', 'YX', 'MQ', 'B6', 'OH', '9E']"
      ]
     },
     "execution_count": 24,
     "metadata": {
      "tags": []
     },
     "output_type": "execute_result"
    }
   ],
   "source": [
    "top10carriers"
   ]
  },
  {
   "cell_type": "markdown",
   "metadata": {
    "id": "vwABFH9cwm8k"
   },
   "source": [
    "**Ejercicio 2:** Calcular el promedio de vuelos que llegaron con 15 minutos de demora o mas (ARR_DEL15 ==1) para las 10 líneas con mas vuelos (usar el ejercicio anterior), de estas indicar las tres mejores y las tres peores."
   ]
  },
  {
   "cell_type": "code",
   "execution_count": null,
   "metadata": {
    "id": "MaGRG5QQwio8"
   },
   "outputs": [],
   "source": [
    "delays = rdd.filter(lambda x: x.OP_UNIQUE_CARRIER in top10carriers) \\\n",
    ".map(lambda x: (x.OP_UNIQUE_CARRIER, (float(x.ARR_DEL15), 1))) \\\n",
    ".reduceByKey(lambda x,y: (x[0] + y[0], x[1] + y[1])) \\\n",
    ".map(lambda x: (x[0], x[1][0] / x[1][1])).collect()"
   ]
  },
  {
   "cell_type": "code",
   "execution_count": null,
   "metadata": {
    "colab": {
     "base_uri": "https://localhost:8080/",
     "height": 70
    },
    "executionInfo": {
     "elapsed": 895,
     "status": "ok",
     "timestamp": 1588630923037,
     "user": {
      "displayName": "Luis Argerich",
      "photoUrl": "",
      "userId": "00313787922295066251"
     },
     "user_tz": 180
    },
    "id": "XSUe-SiBx1tm",
    "outputId": "84358155-29c2-4503-ca9b-487126babfa6"
   },
   "outputs": [
    {
     "data": {
      "text/plain": [
       "[('OH', 0.21525896912371348),\n",
       " ('MQ', 0.19692295522860306),\n",
       " ('OO', 0.15386727556506155)]"
      ]
     },
     "execution_count": 33,
     "metadata": {
      "tags": []
     },
     "output_type": "execute_result"
    }
   ],
   "source": [
    "sorted(delays, key = lambda x:x[1], reverse = True)[:3]"
   ]
  },
  {
   "cell_type": "code",
   "execution_count": null,
   "metadata": {
    "colab": {
     "base_uri": "https://localhost:8080/",
     "height": 70
    },
    "executionInfo": {
     "elapsed": 795,
     "status": "ok",
     "timestamp": 1588630964323,
     "user": {
      "displayName": "Luis Argerich",
      "photoUrl": "",
      "userId": "00313787922295066251"
     },
     "user_tz": 180
    },
    "id": "xfroLuaTyEJK",
    "outputId": "c2557b85-7fd2-4678-b07f-f7c58d138337"
   },
   "outputs": [
    {
     "data": {
      "text/plain": [
       "[('WN', 0.09582389423255469),\n",
       " ('DL', 0.10583274947452707),\n",
       " ('9E', 0.10956218688738836)]"
      ]
     },
     "execution_count": 34,
     "metadata": {
      "tags": []
     },
     "output_type": "execute_result"
    }
   ],
   "source": [
    "sorted(delays, key = lambda x:x[1], reverse = False)[:3]"
   ]
  },
  {
   "cell_type": "markdown",
   "metadata": {
    "id": "9FVk5EaqyeNu"
   },
   "source": [
    "**Ejercicio 3:** Calcular la cantidad de vuelos por ruta. Usando ORIGIN y DEST para la ruta. Devolver un rdd con la siguiente estructura: (RUTA, #Vuelos). Indicar además cuáles son las 10 rutas mas frecuentes y su cantidad de vuelos."
   ]
  },
  {
   "cell_type": "code",
   "execution_count": null,
   "metadata": {
    "id": "XA2591LLyxjp"
   },
   "outputs": [],
   "source": [
    "routes = rdd.map(lambda x: ((x.ORIGIN + x.DEST),1))\\\n",
    ".reduceByKey(lambda x,y : x + y)\\\n",
    ".cache()"
   ]
  },
  {
   "cell_type": "code",
   "execution_count": null,
   "metadata": {
    "colab": {
     "base_uri": "https://localhost:8080/",
     "height": 192
    },
    "executionInfo": {
     "elapsed": 1010,
     "status": "ok",
     "timestamp": 1588631431869,
     "user": {
      "displayName": "Luis Argerich",
      "photoUrl": "",
      "userId": "00313787922295066251"
     },
     "user_tz": 180
    },
    "id": "Vz1iPZ8Ezq-u",
    "outputId": "375547c5-79c7-4766-ff3c-6264926b1670"
   },
   "outputs": [
    {
     "data": {
      "text/plain": [
       "[('LAXSFO', 1191),\n",
       " ('SFOLAX', 1189),\n",
       " ('LASLAX', 1050),\n",
       " ('LAXLAS', 1033),\n",
       " ('JFKLAX', 1023),\n",
       " ('ORDLGA', 1022),\n",
       " ('LAXJFK', 1020),\n",
       " ('LGAORD', 1015),\n",
       " ('HNLOGG', 941),\n",
       " ('OGGHNL', 939)]"
      ]
     },
     "execution_count": 42,
     "metadata": {
      "tags": []
     },
     "output_type": "execute_result"
    }
   ],
   "source": [
    "routes.takeOrdered(10, lambda x:-x[1])"
   ]
  },
  {
   "cell_type": "markdown",
   "metadata": {
    "id": "hey4Zw0rzPCP"
   },
   "source": [
    "**Ejercicio 4:** Consideremos ahora la cantidad de líneas aéreas que transitan cada ruta, queremos saber cuáles son las diez rutas realizadas por mayor cantidad de líneas aéreas y cuáles son las diez líneas aéreas con mayor cantidad de rutas.\n",
    "Devolver: Una lista de 10 tuplas de forma (ROUTE, #CARRIERS) y Una lista de 10 tuplas de tipo (Carrier, #ROUTES)"
   ]
  },
  {
   "cell_type": "code",
   "execution_count": null,
   "metadata": {
    "id": "vlbx19iQ0dhZ"
   },
   "outputs": [],
   "source": [
    "routes_by_lines = rdd.map(lambda x: ((x.ORIGIN + x.DEST, x.OP_UNIQUE_CARRIER), 1))\\\n",
    ".reduceByKey(lambda x,y : x + y).cache()"
   ]
  },
  {
   "cell_type": "code",
   "execution_count": null,
   "metadata": {
    "colab": {
     "base_uri": "https://localhost:8080/",
     "height": 35
    },
    "executionInfo": {
     "elapsed": 6179,
     "status": "ok",
     "timestamp": 1588631724095,
     "user": {
      "displayName": "Luis Argerich",
      "photoUrl": "",
      "userId": "00313787922295066251"
     },
     "user_tz": 180
    },
    "id": "dSc6L5851COW",
    "outputId": "ab37171b-4233-4101-8aba-fc36338b6ae5"
   },
   "outputs": [
    {
     "data": {
      "text/plain": [
       "[(('ORDABQ', 'MQ'), 37)]"
      ]
     },
     "execution_count": 47,
     "metadata": {
      "tags": []
     },
     "output_type": "execute_result"
    }
   ],
   "source": [
    "routes_by_lines.take(1)"
   ]
  },
  {
   "cell_type": "code",
   "execution_count": null,
   "metadata": {
    "colab": {
     "base_uri": "https://localhost:8080/",
     "height": 192
    },
    "executionInfo": {
     "elapsed": 5002,
     "status": "ok",
     "timestamp": 1588631827522,
     "user": {
      "displayName": "Luis Argerich",
      "photoUrl": "",
      "userId": "00313787922295066251"
     },
     "user_tz": 180
    },
    "id": "WjsZ-lXn1HKH",
    "outputId": "76e763d8-dd96-4b21-d158-f04cc5a90fd5"
   },
   "outputs": [
    {
     "data": {
      "text/plain": [
       "[('ORDATL', 8),\n",
       " ('LGAORD', 8),\n",
       " ('ATLORD', 8),\n",
       " ('ORDLGA', 8),\n",
       " ('LASLAX', 8),\n",
       " ('ORDRDU', 8),\n",
       " ('RDUORD', 8),\n",
       " ('LAXLAS', 8),\n",
       " ('SEADEN', 7),\n",
       " ('MSPORD', 7)]"
      ]
     },
     "execution_count": 48,
     "metadata": {
      "tags": []
     },
     "output_type": "execute_result"
    }
   ],
   "source": [
    "routes_by_lines.map(lambda x: (x[0][0], 1))\\\n",
    ".reduceByKey(lambda x, y: x + y)\\\n",
    ".takeOrdered(10, lambda x: -x[1])"
   ]
  },
  {
   "cell_type": "code",
   "execution_count": null,
   "metadata": {
    "colab": {
     "base_uri": "https://localhost:8080/",
     "height": 192
    },
    "executionInfo": {
     "elapsed": 1464,
     "status": "ok",
     "timestamp": 1588632042757,
     "user": {
      "displayName": "Luis Argerich",
      "photoUrl": "",
      "userId": "00313787922295066251"
     },
     "user_tz": 180
    },
    "id": "7hAKVTtB2BDd",
    "outputId": "47f40b30-d720-45c4-c050-bb6f7de7c3b6"
   },
   "outputs": [
    {
     "data": {
      "text/plain": [
       "[('OO', 1425),\n",
       " ('WN', 1413),\n",
       " ('DL', 874),\n",
       " ('YX', 808),\n",
       " ('AA', 777),\n",
       " ('UA', 693),\n",
       " ('G4', 685),\n",
       " ('F9', 502),\n",
       " ('MQ', 481),\n",
       " ('9E', 464)]"
      ]
     },
     "execution_count": 49,
     "metadata": {
      "tags": []
     },
     "output_type": "execute_result"
    }
   ],
   "source": [
    "routes_by_lines.map(lambda x: (x[0][1],1))\\\n",
    ".reduceByKey(lambda x,y: x + y).takeOrdered(10, lambda x: -x[1])"
   ]
  },
  {
   "cell_type": "markdown",
   "metadata": {
    "id": "NSXlYTZmzdRx"
   },
   "source": [
    "**Ejercicio 5:** Por cada ruta aérea calcular el promedio de tiempo de vuelo. Calculando ARR_TIME - DEP_TIME usando la función provista. Al calculo del tiempo de vuelo en minutos hay que sumarle TIMEDIFF que es la diferencia horaria entre las ciudades (en horas). Por lo tanto el calculo es:\n",
    "\n",
    "```\n",
    "hhmmtimediff(x.DEP_TIME,x.ARR_TIME) + (x.TIMEDIFF * 60)\n",
    "```\n",
    "\n",
    "Puntos extras: Además del promedio de tiempo de vuelo calcular la desviación standard del tiempo de vuelo para cada ruta.\n",
    "Devolver: \n",
    "- Una lista de 10 tuplas de tipo (ROUTE, average_time)\n",
    "- Una lista de 10 tuplas de tipo (ROUTE, time_std) (solo para las rutas con mas de 50 vuelos)"
   ]
  },
  {
   "cell_type": "code",
   "execution_count": null,
   "metadata": {
    "id": "nmsYsUqZJSer"
   },
   "outputs": [],
   "source": [
    "from numpy import sqrt\n",
    "# Computes time diff in format HHMM (in minutes)\n",
    "def hhmmtimediff(t1, t2):\n",
    "  m2 = (t2 // 100) * 60 + (t2 % 100)\n",
    "  m1 = (t1 // 100) * 60 + (t1 % 100)\n",
    "  return m2 - m1 "
   ]
  },
  {
   "cell_type": "code",
   "execution_count": null,
   "metadata": {
    "id": "sBe-J54E2_DR"
   },
   "outputs": [],
   "source": [
    "routes_duration = rdd.map(lambda x: ((x.ORIGIN + x.DEST), \n",
    "                                     hhmmtimediff(x.DEP_TIME, x.ARR_TIME) + \n",
    "                                     (x.TIMEDIFF * 60)))\\\n",
    ".filter(lambda x:x[0] != 'GUMHNL')\\\n",
    ".filter(lambda x:x[1] > 0)\\\n",
    ".cache()"
   ]
  },
  {
   "cell_type": "code",
   "execution_count": null,
   "metadata": {
    "colab": {
     "base_uri": "https://localhost:8080/",
     "height": 192
    },
    "executionInfo": {
     "elapsed": 1702,
     "status": "ok",
     "timestamp": 1588633642075,
     "user": {
      "displayName": "Luis Argerich",
      "photoUrl": "",
      "userId": "00313787922295066251"
     },
     "user_tz": 180
    },
    "id": "VKsYCWFG4oi1",
    "outputId": "5580f90c-8df0-4e42-815e-16fb81b7b273"
   },
   "outputs": [
    {
     "data": {
      "text/plain": [
       "[('ORDGRB', 47.0),\n",
       " ('ORDGRB', 84.0),\n",
       " ('ORDGRB', 64.0),\n",
       " ('ORDGRB', 75.0),\n",
       " ('ORDGRB', 69.0),\n",
       " ('ORDGRB', 50.0),\n",
       " ('ORDGRB', 56.0),\n",
       " ('ORDGRB', 73.0),\n",
       " ('ORDGRB', 45.0),\n",
       " ('ORDGRB', 57.0)]"
      ]
     },
     "execution_count": 69,
     "metadata": {
      "tags": []
     },
     "output_type": "execute_result"
    }
   ],
   "source": [
    "routes_duration.take(10)"
   ]
  },
  {
   "cell_type": "markdown",
   "metadata": {
    "id": "6eC2FzuK5uT_"
   },
   "source": [
    "Para la desviacion standard usamos:\n",
    "$\\sigma = \\sqrt{\\frac{1}{N} \\sum x_i^2 - \\bar{x}^2}$"
   ]
  },
  {
   "cell_type": "code",
   "execution_count": 41,
   "metadata": {
    "executionInfo": {
     "elapsed": 757,
     "status": "ok",
     "timestamp": 1603691740388,
     "user": {
      "displayName": "Agustin More",
      "photoUrl": "https://lh3.googleusercontent.com/a-/AOh14GjAKofz6jnjMFUV86twYI9sRNk6OvigYn_qCkEs=s64",
      "userId": "02543045116850321350"
     },
     "user_tz": 180
    },
    "id": "F_5wBP8Q4wAn"
   },
   "outputs": [],
   "source": [
    "routes_stats = routes_duration.mapValues(lambda x: (x, # para sum\n",
    "                                                    x ** 2, # para sum ** 2\n",
    "                                                    1) # para count\n",
    "                                        ) \\\n",
    ".reduceByKey(lambda x, y : (x[0] + y[0], # para sum\n",
    "                            x[1] + y[1], # para sum ** 2\n",
    "                            x[2] + y[2]) # para count\n",
    "            )\\\n",
    ".mapValues(lambda x: (x[0] / x[2], # mean\n",
    "                      x[2], # count\n",
    "                      sqrt(\n",
    "                          (x[1] / x[2]) - # sum ** 2 / n -\n",
    "                          (x[0] / x[2]) ** 2 # mean ** 2\n",
    "                      )# std\n",
    "          )) \\\n",
    ".map(lambda x: Row(ROUTE=x[0],\n",
    "                   AVERAGE_DURATION=x[1][0],\n",
    "                   NUM_FLIGHTS=x[1][1],\n",
    "                   DURATION_STD=x[1][2])).cache()"
   ]
  },
  {
   "cell_type": "code",
   "execution_count": 42,
   "metadata": {
    "colab": {
     "base_uri": "https://localhost:8080/",
     "height": 207
    },
    "executionInfo": {
     "elapsed": 2432,
     "status": "ok",
     "timestamp": 1603691746351,
     "user": {
      "displayName": "Agustin More",
      "photoUrl": "https://lh3.googleusercontent.com/a-/AOh14GjAKofz6jnjMFUV86twYI9sRNk6OvigYn_qCkEs=s64",
      "userId": "02543045116850321350"
     },
     "user_tz": 180
    },
    "id": "di_PB9vr7y_t",
    "outputId": "0e96dcea-d0dd-4aa5-c3d0-f48798bf4d33"
   },
   "outputs": [
    {
     "data": {
      "text/plain": [
       "[Row(ROUTE='BOSHNL', AVERAGE_DURATION=677.0, NUM_FLIGHTS=21, DURATION_STD=25.78297703450658),\n",
       " Row(ROUTE='JFKHNL', AVERAGE_DURATION=670.2, NUM_FLIGHTS=35, DURATION_STD=23.25240386958354),\n",
       " Row(ROUTE='EWRHNL', AVERAGE_DURATION=664.0322580645161, NUM_FLIGHTS=31, DURATION_STD=21.654894210968795),\n",
       " Row(ROUTE='IADHNL', AVERAGE_DURATION=651.125, NUM_FLIGHTS=8, DURATION_STD=21.43850216316429),\n",
       " Row(ROUTE='ATLHNL', AVERAGE_DURATION=597.9666666666667, NUM_FLIGHTS=30, DURATION_STD=17.11428902668256),\n",
       " Row(ROUTE='DTWHNL', AVERAGE_DURATION=589.0, NUM_FLIGHTS=4, DURATION_STD=7.035623639735144),\n",
       " Row(ROUTE='ORDHNL', AVERAGE_DURATION=559.25, NUM_FLIGHTS=68, DURATION_STD=23.411519914475928),\n",
       " Row(ROUTE='ORDOGG', AVERAGE_DURATION=559.0909090909091, NUM_FLIGHTS=22, DURATION_STD=19.05949796846426),\n",
       " Row(ROUTE='MSPHNL', AVERAGE_DURATION=538.0909090909091, NUM_FLIGHTS=22, DURATION_STD=27.14759170786847),\n",
       " Row(ROUTE='IAHHNL', AVERAGE_DURATION=522.2258064516129, NUM_FLIGHTS=31, DURATION_STD=12.696734854383065)]"
      ]
     },
     "execution_count": 42,
     "metadata": {
      "tags": []
     },
     "output_type": "execute_result"
    }
   ],
   "source": [
    "routes_stats.takeOrdered(10, lambda x: -x.AVERAGE_DURATION)"
   ]
  },
  {
   "cell_type": "code",
   "execution_count": null,
   "metadata": {
    "colab": {
     "base_uri": "https://localhost:8080/",
     "height": 212
    },
    "executionInfo": {
     "elapsed": 709,
     "status": "ok",
     "timestamp": 1588633656667,
     "user": {
      "displayName": "Luis Argerich",
      "photoUrl": "",
      "userId": "00313787922295066251"
     },
     "user_tz": 180
    },
    "id": "PNdizsRM8IVy",
    "outputId": "f50049d5-777f-4256-b86e-1e7a5faa8da5"
   },
   "outputs": [
    {
     "data": {
      "text/plain": [
       "[Row(AVERAGE_DURATION=25.466666666666665, DURATION_STD=5.891990797307446, NUM_FLIGHTS=30, ROUTE='PSGWRG'),\n",
       " Row(AVERAGE_DURATION=25.821428571428573, DURATION_STD=6.530442839001753, NUM_FLIGHTS=28, ROUTE='WRGPSG'),\n",
       " Row(AVERAGE_DURATION=33.32142857142857, DURATION_STD=4.375692365040032, NUM_FLIGHTS=28, ROUTE='SFOSTS'),\n",
       " Row(AVERAGE_DURATION=34.728813559322035, DURATION_STD=5.436320130240698, NUM_FLIGHTS=59, ROUTE='SJUSTT'),\n",
       " Row(AVERAGE_DURATION=35.9941348973607, DURATION_STD=4.460970618117005, NUM_FLIGHTS=682, ROUTE='LIHHNL'),\n",
       " Row(AVERAGE_DURATION=36.0, DURATION_STD=3.0, NUM_FLIGHTS=2, ROUTE='RICIAD'),\n",
       " Row(AVERAGE_DURATION=36.56190476190476, DURATION_STD=4.922105259074188, NUM_FLIGHTS=105, ROUTE='KOAOGG'),\n",
       " Row(AVERAGE_DURATION=36.953125, DURATION_STD=4.641624471494328, NUM_FLIGHTS=64, ROUTE='STTSJU'),\n",
       " Row(AVERAGE_DURATION=37.285714285714285, DURATION_STD=5.267536309842602, NUM_FLIGHTS=105, ROUTE='OGGKOA'),\n",
       " Row(AVERAGE_DURATION=37.96551724137931, DURATION_STD=7.53604102879183, NUM_FLIGHTS=29, ROUTE='WRGKTN')]"
      ]
     },
     "execution_count": 72,
     "metadata": {
      "tags": []
     },
     "output_type": "execute_result"
    }
   ],
   "source": [
    "routes_stats.takeOrdered(10, lambda x: x.AVERAGE_DURATION)"
   ]
  },
  {
   "cell_type": "code",
   "execution_count": null,
   "metadata": {
    "colab": {
     "base_uri": "https://localhost:8080/",
     "height": 212
    },
    "executionInfo": {
     "elapsed": 810,
     "status": "ok",
     "timestamp": 1588633723007,
     "user": {
      "displayName": "Luis Argerich",
      "photoUrl": "",
      "userId": "00313787922295066251"
     },
     "user_tz": 180
    },
    "id": "2oUcv7TJ8oAE",
    "outputId": "d079620c-a439-44cc-fa19-e8143bed8ec4"
   },
   "outputs": [
    {
     "data": {
      "text/plain": [
       "[Row(AVERAGE_DURATION=67.28395061728395, DURATION_STD=100.71723460935365, NUM_FLIGHTS=405, ROUTE='ATLBNA'),\n",
       " Row(AVERAGE_DURATION=52.194945848375454, DURATION_STD=86.06523998701414, NUM_FLIGHTS=277, ROUTE='ATLBHM'),\n",
       " Row(AVERAGE_DURATION=307.0, DURATION_STD=71.17935093831638, NUM_FLIGHTS=4, ROUTE='DFWSTT'),\n",
       " Row(AVERAGE_DURATION=252.66666666666666, DURATION_STD=40.17185305382092, NUM_FLIGHTS=9, ROUTE='HDNFLL'),\n",
       " Row(AVERAGE_DURATION=141.08333333333334, DURATION_STD=37.34402748618423, NUM_FLIGHTS=12, ROUTE='SGFSFB'),\n",
       " Row(AVERAGE_DURATION=221.25, DURATION_STD=36.77890020106637, NUM_FLIGHTS=4, ROUTE='HDNIAD'),\n",
       " Row(AVERAGE_DURATION=310.22222222222223, DURATION_STD=36.328066216931056, NUM_FLIGHTS=9, ROUTE='BOSHDN'),\n",
       " Row(AVERAGE_DURATION=236.6, DURATION_STD=33.75559212930507, NUM_FLIGHTS=5, ROUTE='HDNEWR'),\n",
       " Row(AVERAGE_DURATION=298.4, DURATION_STD=32.96422303043125, NUM_FLIGHTS=5, ROUTE='EWRHDN'),\n",
       " Row(AVERAGE_DURATION=168.0, DURATION_STD=32.526911934581186, NUM_FLIGHTS=10, ROUTE='DSMPIE')]"
      ]
     },
     "execution_count": 73,
     "metadata": {
      "tags": []
     },
     "output_type": "execute_result"
    }
   ],
   "source": [
    "routes_stats.takeOrdered(10, lambda x: -x.DURATION_STD)"
   ]
  },
  {
   "cell_type": "markdown",
   "metadata": {
    "id": "FVNU3LbB0P_i"
   },
   "source": [
    "**Ejercicio 6:** Para cada linea aerea contar los tuvieron cuya duración se excedió en 15 minutos o más de la duracion promedio de la ruta (para todas las lineas). Indicar las 10 mejores lineas aereas y las 10 peores de acuerdo a esta metrica.\n"
   ]
  },
  {
   "cell_type": "code",
   "execution_count": 43,
   "metadata": {
    "executionInfo": {
     "elapsed": 718,
     "status": "ok",
     "timestamp": 1603691749529,
     "user": {
      "displayName": "Agustin More",
      "photoUrl": "https://lh3.googleusercontent.com/a-/AOh14GjAKofz6jnjMFUV86twYI9sRNk6OvigYn_qCkEs=s64",
      "userId": "02543045116850321350"
     },
     "user_tz": 180
    },
    "id": "seokgySG9MN0"
   },
   "outputs": [],
   "source": [
    "rdd_1 = routes_stats.map(lambda x: (x.ROUTE, x.AVERAGE_DURATION))\n",
    "rdd_2 = rdd.map(lambda x: (x.ORIGIN + x.DEST,\n",
    "                           (x.OP_UNIQUE_CARRIER, \n",
    "                            hhmmtimediff(x.DEP_TIME, x.ARR_TIME) + \n",
    "                            (x.TIMEDIFF * 60))\n",
    "                           ))\n"
   ]
  },
  {
   "cell_type": "code",
   "execution_count": 44,
   "metadata": {
    "executionInfo": {
     "elapsed": 734,
     "status": "ok",
     "timestamp": 1603691752478,
     "user": {
      "displayName": "Agustin More",
      "photoUrl": "https://lh3.googleusercontent.com/a-/AOh14GjAKofz6jnjMFUV86twYI9sRNk6OvigYn_qCkEs=s64",
      "userId": "02543045116850321350"
     },
     "user_tz": 180
    },
    "id": "kqWyytwL9naP"
   },
   "outputs": [],
   "source": [
    "carrier_delays = rdd_1.join(rdd_2).cache()"
   ]
  },
  {
   "cell_type": "code",
   "execution_count": 45,
   "metadata": {
    "colab": {
     "base_uri": "https://localhost:8080/",
     "height": 34
    },
    "executionInfo": {
     "elapsed": 10590,
     "status": "ok",
     "timestamp": 1603691764225,
     "user": {
      "displayName": "Agustin More",
      "photoUrl": "https://lh3.googleusercontent.com/a-/AOh14GjAKofz6jnjMFUV86twYI9sRNk6OvigYn_qCkEs=s64",
      "userId": "02543045116850321350"
     },
     "user_tz": 180
    },
    "id": "0To2THvI-gSv",
    "outputId": "c31e40cf-2e84-4ecf-d47a-389340807bca"
   },
   "outputs": [
    {
     "data": {
      "text/plain": [
       "[('SLCABQ', (94.39024390243902, ('OO', 85.0)))]"
      ]
     },
     "execution_count": 45,
     "metadata": {
      "tags": []
     },
     "output_type": "execute_result"
    }
   ],
   "source": [
    "carrier_delays.take(1)"
   ]
  },
  {
   "cell_type": "code",
   "execution_count": 46,
   "metadata": {
    "executionInfo": {
     "elapsed": 773,
     "status": "ok",
     "timestamp": 1603691775740,
     "user": {
      "displayName": "Agustin More",
      "photoUrl": "https://lh3.googleusercontent.com/a-/AOh14GjAKofz6jnjMFUV86twYI9sRNk6OvigYn_qCkEs=s64",
      "userId": "02543045116850321350"
     },
     "user_tz": 180
    },
    "id": "qNJ4iqlD9mM2"
   },
   "outputs": [],
   "source": [
    "carrier_delays = carrier_delays \\\n",
    ".filter(lambda x: (x[1][1][1] - x[1][0]) > 15) \\\n",
    ".map(lambda x: (x[1][1][0], 1)) \\\n",
    ".reduceByKey(lambda x, y: x + y) \\\n",
    ".cache()"
   ]
  },
  {
   "cell_type": "code",
   "execution_count": 47,
   "metadata": {
    "colab": {
     "base_uri": "https://localhost:8080/",
     "height": 187
    },
    "executionInfo": {
     "elapsed": 3417,
     "status": "ok",
     "timestamp": 1603691782247,
     "user": {
      "displayName": "Agustin More",
      "photoUrl": "https://lh3.googleusercontent.com/a-/AOh14GjAKofz6jnjMFUV86twYI9sRNk6OvigYn_qCkEs=s64",
      "userId": "02543045116850321350"
     },
     "user_tz": 180
    },
    "id": "-cibwyqc_GtJ",
    "outputId": "d26ffcea-2c56-4528-8e68-5ba22b3286e4"
   },
   "outputs": [
    {
     "data": {
      "text/plain": [
       "[('OO', 8281),\n",
       " ('AA', 7949),\n",
       " ('DL', 6890),\n",
       " ('WN', 4896),\n",
       " ('UA', 4622),\n",
       " ('YX', 3908),\n",
       " ('AS', 3448),\n",
       " ('MQ', 2962),\n",
       " ('OH', 2696),\n",
       " ('B6', 2427)]"
      ]
     },
     "execution_count": 47,
     "metadata": {
      "tags": []
     },
     "output_type": "execute_result"
    }
   ],
   "source": [
    "carrier_delays.takeOrdered(10, lambda x: -x[1])"
   ]
  },
  {
   "cell_type": "code",
   "execution_count": null,
   "metadata": {
    "colab": {
     "base_uri": "https://localhost:8080/",
     "height": 192
    },
    "executionInfo": {
     "elapsed": 937,
     "status": "ok",
     "timestamp": 1588634418087,
     "user": {
      "displayName": "Luis Argerich",
      "photoUrl": "",
      "userId": "00313787922295066251"
     },
     "user_tz": 180
    },
    "id": "itJjBMhB-uQC",
    "outputId": "46d637a2-3ec9-4490-9b11-4e4c762bd2ac"
   },
   "outputs": [
    {
     "data": {
      "text/plain": [
       "[('HA', 389),\n",
       " ('G4', 521),\n",
       " ('EV', 1447),\n",
       " ('NK', 1557),\n",
       " ('YV', 1565),\n",
       " ('F9', 1777),\n",
       " ('9E', 2288),\n",
       " ('B6', 2427),\n",
       " ('OH', 2696),\n",
       " ('MQ', 2962)]"
      ]
     },
     "execution_count": 85,
     "metadata": {
      "tags": []
     },
     "output_type": "execute_result"
    }
   ],
   "source": [
    "carrier_delays.takeOrdered(10, lambda x: x[1])"
   ]
  },
  {
   "cell_type": "markdown",
   "metadata": {
    "id": "W0S8KsUKAEr0"
   },
   "source": [
    "#CombineByKey"
   ]
  },
  {
   "cell_type": "code",
   "execution_count": 98,
   "metadata": {
    "executionInfo": {
     "elapsed": 789,
     "status": "ok",
     "timestamp": 1603692685943,
     "user": {
      "displayName": "Agustin More",
      "photoUrl": "https://lh3.googleusercontent.com/a-/AOh14GjAKofz6jnjMFUV86twYI9sRNk6OvigYn_qCkEs=s64",
      "userId": "02543045116850321350"
     },
     "user_tz": 180
    },
    "id": "BNKHfm6F_Xdx"
   },
   "outputs": [],
   "source": [
    "r1 = sc.parallelize([\n",
    "                     ('A', 1),\n",
    "                     ('C', 8),\n",
    "                     ('B', 3),\n",
    "                     ('C', 8),\n",
    "                     ('B', 6),\n",
    "                     ('A', 7),\n",
    "                     ('C', 28),\n",
    "                     ('A', 2)\n",
    "                     ],\n",
    "                    numSlices=4)"
   ]
  },
  {
   "cell_type": "code",
   "execution_count": 66,
   "metadata": {
    "colab": {
     "base_uri": "https://localhost:8080/",
     "height": 221
    },
    "executionInfo": {
     "elapsed": 1087,
     "status": "ok",
     "timestamp": 1603692395350,
     "user": {
      "displayName": "Agustin More",
      "photoUrl": "https://lh3.googleusercontent.com/a-/AOh14GjAKofz6jnjMFUV86twYI9sRNk6OvigYn_qCkEs=s64",
      "userId": "02543045116850321350"
     },
     "user_tz": 180
    },
    "id": "OwVbfeFfAD3j",
    "outputId": "0dd471cc-29e9-4b40-dfef-48557759f2a0"
   },
   "outputs": [
    {
     "data": {
      "text/plain": [
       "[('A', 1),\n",
       " ('C', 8),\n",
       " ('B', 2),\n",
       " ('C', 3),\n",
       " ('A', 2),\n",
       " ('C', 8),\n",
       " ('B', 3),\n",
       " ('C', 8),\n",
       " ('B', 6),\n",
       " ('A', 7),\n",
       " ('C', 28),\n",
       " ('A', 2)]"
      ]
     },
     "execution_count": 66,
     "metadata": {
      "tags": []
     },
     "output_type": "execute_result"
    }
   ],
   "source": [
    "r1.reduceByKey(lambda x, y: x + y).collect()\n",
    "r1.collect()"
   ]
  },
  {
   "cell_type": "code",
   "execution_count": 99,
   "metadata": {
    "colab": {
     "base_uri": "https://localhost:8080/",
     "height": 34
    },
    "executionInfo": {
     "elapsed": 762,
     "status": "ok",
     "timestamp": 1603692688240,
     "user": {
      "displayName": "Agustin More",
      "photoUrl": "https://lh3.googleusercontent.com/a-/AOh14GjAKofz6jnjMFUV86twYI9sRNk6OvigYn_qCkEs=s64",
      "userId": "02543045116850321350"
     },
     "user_tz": 180
    },
    "id": "verYIwhhAe_l",
    "outputId": "4bd91d10-0e3d-4b96-bc1d-1e3372084b99"
   },
   "outputs": [
    {
     "data": {
      "text/plain": [
       "[('A', (10, 3)), ('B', (9, 2)), ('C', (44, 3))]"
      ]
     },
     "execution_count": 99,
     "metadata": {
      "tags": []
     },
     "output_type": "execute_result"
    }
   ],
   "source": [
    "r1.combineByKey(\n",
    "    lambda x: (x, 1),\n",
    "    lambda x, y: (x[0] + y[0], x[1] + y[1]),\n",
    "    lambda x, y: (x[0] + y[0], x[1] + y[1])\n",
    ").collect()"
   ]
  },
  {
   "cell_type": "markdown",
   "metadata": {
    "id": "Ac2ERKGcCcvF"
   },
   "source": [
    "#Comentario sobre Dataframes (anecdotico)"
   ]
  },
  {
   "cell_type": "code",
   "execution_count": null,
   "metadata": {
    "id": "jd6ub54dBhWK"
   },
   "outputs": [],
   "source": [
    "sqlContext.read.parquet('flights.parquet').registerTempTable('flights')\n"
   ]
  },
  {
   "cell_type": "code",
   "execution_count": null,
   "metadata": {
    "colab": {
     "base_uri": "https://localhost:8080/",
     "height": 315
    },
    "executionInfo": {
     "elapsed": 1847,
     "status": "ok",
     "timestamp": 1588635352589,
     "user": {
      "displayName": "Luis Argerich",
      "photoUrl": "",
      "userId": "00313787922295066251"
     },
     "user_tz": 180
    },
    "id": "eYvgVbzWCoWJ",
    "outputId": "3f0f0560-8d13-4cd3-fb48-ee73b7e5349e"
   },
   "outputs": [
    {
     "name": "stdout",
     "output_type": "stream",
     "text": [
      "+-----------------+\n",
      "|OP_UNIQUE_CARRIER|\n",
      "+-----------------+\n",
      "|               UA|\n",
      "|               NK|\n",
      "|               AA|\n",
      "|               EV|\n",
      "|               B6|\n",
      "|               DL|\n",
      "|               OO|\n",
      "|               F9|\n",
      "|               MQ|\n",
      "|               YX|\n",
      "|               AS|\n",
      "|               9E|\n",
      "+-----------------+\n",
      "\n"
     ]
    }
   ],
   "source": [
    "sqlContext.sql(\"SELECT distinct(OP_UNIQUE_CARRIER) from flights WHERE ORIGIN = 'ORD'\").show()"
   ]
  },
  {
   "cell_type": "code",
   "execution_count": null,
   "metadata": {
    "id": "j75TqKF5Cx2p"
   },
   "outputs": [],
   "source": []
  }
 ],
 "metadata": {
  "colab": {
   "collapsed_sections": [],
   "name": "Copy of flights_ejercicio.ipynb",
   "provenance": [
    {
     "file_id": "1LEzBh9sFpXVd_Nfrd60-up2R0Gxzk7OU",
     "timestamp": 1603689923913
    },
    {
     "file_id": "1rea6BXvqZW5RC_IxPoEdUvmptexpK7mB",
     "timestamp": 1588021989902
    }
   ]
  },
  "kernelspec": {
   "display_name": "Python 3",
   "language": "python",
   "name": "python3"
  },
  "language_info": {
   "codemirror_mode": {
    "name": "ipython",
    "version": 3
   },
   "file_extension": ".py",
   "mimetype": "text/x-python",
   "name": "python",
   "nbconvert_exporter": "python",
   "pygments_lexer": "ipython3",
   "version": "3.9.1"
  }
 },
 "nbformat": 4,
 "nbformat_minor": 4
}
